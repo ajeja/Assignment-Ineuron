{
  "nbformat": 4,
  "nbformat_minor": 0,
  "metadata": {
    "colab": {
      "name": "Numpy Assignment.ipynb",
      "provenance": []
    },
    "kernelspec": {
      "name": "python3",
      "display_name": "Python 3"
    }
  },
  "cells": [
    {
      "cell_type": "code",
      "metadata": {
        "id": "YmHq5sTumEAG"
      },
      "source": [
        "import numpy as np\n"
      ],
      "execution_count": 71,
      "outputs": []
    },
    {
      "cell_type": "code",
      "metadata": {
        "id": "_h1U-opnnf01"
      },
      "source": [
        "def vandermonde (vec, increasing = True):\n",
        "  if increasing:\n",
        "    lenh = len(vec)\n",
        "    amf = np.empty(shape=(lenh,lenh))\n",
        "    for i in range(lenh):\n",
        "      amf[:,i] = (vec**(i+1))\n",
        "  else:  \n",
        "    lenh = len(vec)\n",
        "    amf = np.empty(shape=(lenh,lenh))\n",
        "    for i in range(lenh):\n",
        "      amf[:,i] = (vec**(lenh-i))  \n",
        "  return(amf) "
      ],
      "execution_count": 99,
      "outputs": []
    },
    {
      "cell_type": "code",
      "metadata": {
        "id": "cCSd4p66HgNX"
      },
      "source": [
        "vec = np.array([1,2,3,4])"
      ],
      "execution_count": 100,
      "outputs": []
    },
    {
      "cell_type": "code",
      "metadata": {
        "id": "48AZKNI5HuM4",
        "outputId": "136fc30e-9b8f-4610-e802-01bd637c1358",
        "colab": {
          "base_uri": "https://localhost:8080/",
          "height": 85
        }
      },
      "source": [
        "matasc = vandermonde(vec,True)\n",
        "matasc"
      ],
      "execution_count": 101,
      "outputs": [
        {
          "output_type": "execute_result",
          "data": {
            "text/plain": [
              "array([[  1.,   1.,   1.,   1.],\n",
              "       [  2.,   4.,   8.,  16.],\n",
              "       [  3.,   9.,  27.,  81.],\n",
              "       [  4.,  16.,  64., 256.]])"
            ]
          },
          "metadata": {
            "tags": []
          },
          "execution_count": 101
        }
      ]
    },
    {
      "cell_type": "code",
      "metadata": {
        "id": "ZiFGN6YvH8I_",
        "outputId": "3f290040-1280-4293-88c1-4ca8fc9e8837",
        "colab": {
          "base_uri": "https://localhost:8080/",
          "height": 85
        }
      },
      "source": [
        "matdes = vandermonde(vec,False)\n",
        "matdes"
      ],
      "execution_count": 102,
      "outputs": [
        {
          "output_type": "execute_result",
          "data": {
            "text/plain": [
              "array([[  1.,   1.,   1.,   1.],\n",
              "       [ 16.,   8.,   4.,   2.],\n",
              "       [ 81.,  27.,   9.,   3.],\n",
              "       [256.,  64.,  16.,   4.]])"
            ]
          },
          "metadata": {
            "tags": []
          },
          "execution_count": 102
        }
      ]
    },
    {
      "cell_type": "code",
      "metadata": {
        "id": "lS1RgOkYxRlk"
      },
      "source": [
        ""
      ],
      "execution_count": 57,
      "outputs": []
    },
    {
      "cell_type": "markdown",
      "metadata": {
        "id": "d5d-QiI1I8dt"
      },
      "source": [
        "# Determine the Moving average"
      ]
    },
    {
      "cell_type": "code",
      "metadata": {
        "id": "iHV6WpXGJK0n",
        "outputId": "ebf79a91-b168-4984-89b6-bf5443cfce4e",
        "colab": {
          "base_uri": "https://localhost:8080/",
          "height": 459
        }
      },
      "source": [
        "val =[]\n",
        "win = int(input(\"Enter the window range\"))\n",
        "out=[]\n",
        "ma_no = int(input(\"Enter the no of values\"))\n",
        "for i in range(ma_no):\n",
        "  inp = input (\"Enter the values\")\n",
        "  val = np.append(val,int(inp))\n",
        "val\n",
        "for i in range(len(val)-win+1):\n",
        "  y = val[i:i+win]\n",
        "  yout = np.sum(y) / win\n",
        "  # y = (int(val[i]) + int(val[i+1])) / win\n",
        "  out = np.append(out,float(yout))\n",
        "out\n",
        "for i in range(len(out)):\n",
        "  print(\"Y {} =  {}.\".format( i, out[i]))"
      ],
      "execution_count": 104,
      "outputs": [
        {
          "output_type": "stream",
          "text": [
            "Enter the window range3\n",
            "Enter the no of values13\n",
            "Enter the values3\n",
            "Enter the values5\n",
            "Enter the values7\n",
            "Enter the values2\n",
            "Enter the values8\n",
            "Enter the values10\n",
            "Enter the values11\n",
            "Enter the values65\n",
            "Enter the values72\n",
            "Enter the values81\n",
            "Enter the values99\n",
            "Enter the values100\n",
            "Enter the values150\n",
            "Y 0 =  5.0.\n",
            "Y 1 =  4.666666666666667.\n",
            "Y 2 =  5.666666666666667.\n",
            "Y 3 =  6.666666666666667.\n",
            "Y 4 =  9.666666666666666.\n",
            "Y 5 =  28.666666666666668.\n",
            "Y 6 =  49.333333333333336.\n",
            "Y 7 =  72.66666666666667.\n",
            "Y 8 =  84.0.\n",
            "Y 9 =  93.33333333333333.\n",
            "Y 10 =  116.33333333333333.\n"
          ],
          "name": "stdout"
        }
      ]
    },
    {
      "cell_type": "code",
      "metadata": {
        "id": "bB6_2Q8zzVHC"
      },
      "source": [
        ""
      ],
      "execution_count": null,
      "outputs": []
    }
  ]
}