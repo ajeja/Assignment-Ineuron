{
 "cells": [
  {
   "cell_type": "code",
   "execution_count": null,
   "id": "assigned-adult",
   "metadata": {},
   "outputs": [],
   "source": [
    "In this assignment the following steps are carried out:\n",
    "    1. Import the fair dataset and used one hot encoding to the columns 'occupation' and 'occupation_husb'\n",
    "    2. Column 'affair' in the dataset is made as binary.\n",
    "    3. The data is made almost symmetrical by squaring,take square root the column with positive and negative skewness resp.\n",
    "    4. Due to large correlation between the age and yrs_married, age column is dropped\n",
    "    5. Logistic Regression model is made without train test split.\n",
    "    6. Logistic Regression model is made with train test split.\n",
    "    7. Score of 0.822 is obtained"
   ]
  },
  {
   "cell_type": "code",
   "execution_count": 90,
   "id": "charming-chocolate",
   "metadata": {},
   "outputs": [],
   "source": [
    "import numpy as np\n",
    "import sklearn\n",
    "import matplotlib\n",
    "import pandas as pd\n",
    "import statsmodels.api as sm\n",
    "from sklearn.linear_model import LogisticRegression\n",
    "from sklearn.preprocessing import MinMaxScaler\n",
    "import dtale"
   ]
  },
  {
   "cell_type": "code",
   "execution_count": 91,
   "id": "adjusted-ballet",
   "metadata": {},
   "outputs": [
    {
     "name": "stdout",
     "output_type": "stream",
     "text": [
      "      rate_marriage   age  yrs_married  children  religious  educ   affairs  \\\n",
      "0               3.0  32.0          9.0       3.0        3.0  17.0  0.111111   \n",
      "1               3.0  27.0         13.0       3.0        1.0  14.0  3.230769   \n",
      "2               4.0  22.0          2.5       0.0        1.0  16.0  1.400000   \n",
      "3               4.0  37.0         16.5       4.0        3.0  16.0  0.727273   \n",
      "4               5.0  27.0          9.0       1.0        1.0  14.0  4.666666   \n",
      "...             ...   ...          ...       ...        ...   ...       ...   \n",
      "6361            5.0  32.0         13.0       2.0        3.0  17.0  0.000000   \n",
      "6362            4.0  32.0         13.0       1.0        1.0  16.0  0.000000   \n",
      "6363            5.0  22.0          2.5       0.0        2.0  14.0  0.000000   \n",
      "6364            5.0  32.0          6.0       1.0        3.0  14.0  0.000000   \n",
      "6365            4.0  22.0          2.5       0.0        2.0  16.0  0.000000   \n",
      "\n",
      "      Occ1  Occ2  Occ3  Occ4  Occ5  Occ6  Occh1  Occh2  Occh3  Occh4  Occh5  \\\n",
      "0        0     1     0     0     0     0      0      0      0      0      1   \n",
      "1        0     0     1     0     0     0      0      0      0      1      0   \n",
      "2        0     0     1     0     0     0      0      0      0      0      1   \n",
      "3        0     0     0     0     1     0      0      0      0      0      1   \n",
      "4        0     0     1     0     0     0      0      0      0      1      0   \n",
      "...    ...   ...   ...   ...   ...   ...    ...    ...    ...    ...    ...   \n",
      "6361     0     0     0     1     0     0      0      0      1      0      0   \n",
      "6362     0     0     0     0     1     0      0      0      0      0      1   \n",
      "6363     0     0     1     0     0     0      1      0      0      0      0   \n",
      "6364     0     0     1     0     0     0      0      0      0      1      0   \n",
      "6365     0     1     0     0     0     0      0      0      0      1      0   \n",
      "\n",
      "      Occh6  \n",
      "0         0  \n",
      "1         0  \n",
      "2         0  \n",
      "3         0  \n",
      "4         0  \n",
      "...     ...  \n",
      "6361      0  \n",
      "6362      0  \n",
      "6363      0  \n",
      "6364      0  \n",
      "6365      0  \n",
      "\n",
      "[6366 rows x 19 columns]\n"
     ]
    }
   ],
   "source": [
    "data = sm.datasets.fair.load_pandas()\n",
    "datafair = data.data.copy()\n",
    "dummies = pd.get_dummies(datafair['occupation'])\n",
    "DUMMIES1 = dummies.rename(columns={1.0: 'Occ1', 2.0:'Occ2', 3.0:'Occ3', 4.0:'Occ4',5.0:'Occ5',6.0:'Occ6'}, inplace=False)\n",
    "# print(DUMMIES1)\n",
    "dummies = pd.get_dummies(datafair['occupation_husb'])\n",
    "DUMMIES2 = dummies.rename(columns={1.0: 'Occh1', 2.0:'Occh2', 3.0:'Occh3', 4.0:'Occh4',5.0:'Occh5',6.0:'Occh6'}, inplace=False)\n",
    "# print(DUMMIES2)\n",
    "dummy = pd.concat([DUMMIES1,DUMMIES2],axis='columns')\n",
    "datafair = pd.concat([datafair,dummy],axis='columns')\n",
    "datafair = datafair.drop(['occupation','occupation_husb'], axis='columns')\n",
    "print(datafair)"
   ]
  },
  {
   "cell_type": "code",
   "execution_count": 97,
   "id": "advisory-radical",
   "metadata": {
    "scrolled": false
   },
   "outputs": [
    {
     "name": "stdout",
     "output_type": "stream",
     "text": [
      "0       0\n",
      "1       1\n",
      "2       1\n",
      "3       0\n",
      "4       1\n",
      "       ..\n",
      "6361    0\n",
      "6362    0\n",
      "6363    0\n",
      "6364    0\n",
      "6365    0\n",
      "Name: 0, Length: 6366, dtype: int64\n",
      "http://LAPTOP-8U9HBF1N:40000/dtale/main/1\n",
      "It looks like this data may have already been loaded to D-Tale based on shape and column names. Here is URL of the data that seems to match it:\n",
      "\n",
      "None\n",
      "\n",
      "If you still want to load this data please use the following command:\n",
      "\n",
      "dtale.show(df, ignore_duplicate=True)\n"
     ]
    }
   ],
   "source": [
    "X = datafair.drop(['affairs'],axis =1)\n",
    "y = []\n",
    "\n",
    "for i in range(len(datafair['affairs'])):\n",
    "    if datafair['affairs'][i] <=1:\n",
    "        y.append(0)\n",
    "    else:\n",
    "        y.append(1)\n",
    "\n",
    "y =pd.DataFrame(y)\n",
    "y.rename(columns={0:4},inplace='True')\n",
    "# print(y)\n",
    "X =pd.DataFrame(X)\n",
    "frames = [X,y]\n",
    "y = np.ravel(y)\n",
    "# print((X))\n",
    "# print((y))\n",
    "affairs = pd.DataFrame(y)\n",
    "ndata = pd.concat([X,affairs],axis='columns')\n",
    "print(ndata[0])\n",
    "ndatan = ndata.rename(columns={0:'affairs'},inplace=False)\n",
    "ndatan['rate_marriagen'] = ndatan['rate_marriage']**2\n",
    "ndatan['yrs_marriedn'] = ndatan['yrs_married']**(1/2)\n",
    "ndatan['agen'] = ndatan['age']**(1/2)\n",
    "ndatan['educn'] = ndatan['educ']**(1/2)\n",
    "ndatan['childrenn'] = ndatan['children']**(1/2)\n",
    "ndatan.drop(['rate_marriage','age','yrs_married','children','educ'],axis=1,inplace=True)\n",
    "dtale.show(ndatan)"
   ]
  },
  {
   "cell_type": "code",
   "execution_count": 98,
   "id": "twenty-force",
   "metadata": {},
   "outputs": [
    {
     "name": "stdout",
     "output_type": "stream",
     "text": [
      "0.8245366006911719\n"
     ]
    },
    {
     "name": "stderr",
     "output_type": "stream",
     "text": [
      "c:\\users\\hp\\.conda\\envs\\mlprojects\\lib\\site-packages\\sklearn\\linear_model\\_logistic.py:765: ConvergenceWarning:\n",
      "\n",
      "lbfgs failed to converge (status=1):\n",
      "STOP: TOTAL NO. of ITERATIONS REACHED LIMIT.\n",
      "\n",
      "Increase the number of iterations (max_iter) or scale the data as shown in:\n",
      "    https://scikit-learn.org/stable/modules/preprocessing.html\n",
      "Please also refer to the documentation for alternative solver options:\n",
      "    https://scikit-learn.org/stable/modules/linear_model.html#logistic-regression\n",
      "\n"
     ]
    }
   ],
   "source": [
    "X1 = ndatan.drop(['affairs','agen'],axis=1)\n",
    "Y1 = ndatan['affairs']\n",
    "from sklearn.linear_model import LogisticRegression\n",
    "modelLog = LogisticRegression()\n",
    "modelLog.fit(X1,Y1)\n",
    "print(modelLog.score(X1,Y1))"
   ]
  },
  {
   "cell_type": "code",
   "execution_count": 71,
   "id": "stable-classroom",
   "metadata": {},
   "outputs": [
    {
     "name": "stdout",
     "output_type": "stream",
     "text": [
      "      religious  Occ1  Occ2  Occ3  Occ4  Occ5  Occ6  Occh1  Occh2  Occh3  \\\n",
      "0           3.0     0     1     0     0     0     0      0      0      0   \n",
      "1           1.0     0     0     1     0     0     0      0      0      0   \n",
      "2           1.0     0     0     1     0     0     0      0      0      0   \n",
      "3           3.0     0     0     0     0     1     0      0      0      0   \n",
      "4           1.0     0     0     1     0     0     0      0      0      0   \n",
      "...         ...   ...   ...   ...   ...   ...   ...    ...    ...    ...   \n",
      "6361        3.0     0     0     0     1     0     0      0      0      1   \n",
      "6362        1.0     0     0     0     0     1     0      0      0      0   \n",
      "6363        2.0     0     0     1     0     0     0      1      0      0   \n",
      "6364        3.0     0     0     1     0     0     0      0      0      0   \n",
      "6365        2.0     0     1     0     0     0     0      0      0      0   \n",
      "\n",
      "      Occh4  Occh5  Occh6  rate_marriagen  yrs_marriedn     educn  childrenn  \n",
      "0         0      1      0             9.0      3.000000  4.123106   1.732051  \n",
      "1         1      0      0             9.0      3.605551  3.741657   1.732051  \n",
      "2         0      1      0            16.0      1.581139  4.000000   0.000000  \n",
      "3         0      1      0            16.0      4.062019  4.000000   2.000000  \n",
      "4         1      0      0            25.0      3.000000  3.741657   1.000000  \n",
      "...     ...    ...    ...             ...           ...       ...        ...  \n",
      "6361      0      0      0            25.0      3.605551  4.123106   1.414214  \n",
      "6362      0      1      0            16.0      3.605551  4.000000   1.000000  \n",
      "6363      0      0      0            25.0      1.581139  3.741657   0.000000  \n",
      "6364      1      0      0            25.0      2.449490  3.741657   1.000000  \n",
      "6365      1      0      0            16.0      1.581139  4.000000   0.000000  \n",
      "\n",
      "[6366 rows x 17 columns]\n"
     ]
    }
   ],
   "source": [
    "print(X1)"
   ]
  },
  {
   "cell_type": "code",
   "execution_count": 99,
   "id": "purple-printing",
   "metadata": {},
   "outputs": [
    {
     "name": "stdout",
     "output_type": "stream",
     "text": [
      "0.8229995810640972\n"
     ]
    },
    {
     "name": "stderr",
     "output_type": "stream",
     "text": [
      "c:\\users\\hp\\.conda\\envs\\mlprojects\\lib\\site-packages\\sklearn\\linear_model\\_logistic.py:765: ConvergenceWarning:\n",
      "\n",
      "lbfgs failed to converge (status=1):\n",
      "STOP: TOTAL NO. of ITERATIONS REACHED LIMIT.\n",
      "\n",
      "Increase the number of iterations (max_iter) or scale the data as shown in:\n",
      "    https://scikit-learn.org/stable/modules/preprocessing.html\n",
      "Please also refer to the documentation for alternative solver options:\n",
      "    https://scikit-learn.org/stable/modules/linear_model.html#logistic-regression\n",
      "\n"
     ]
    }
   ],
   "source": [
    "from sklearn.model_selection import train_test_split\n",
    "X_train,X_test,Y_train, Y_test = train_test_split(X1,Y1,test_size=0.25,random_state=9)\n",
    "\n",
    "\n",
    "modelLog1 = LogisticRegression()\n",
    "modelLog1.fit(X_train,Y_train)\n",
    "print(modelLog1.score(X_train,Y_train))"
   ]
  },
  {
   "cell_type": "code",
   "execution_count": 100,
   "id": "possible-conversation",
   "metadata": {},
   "outputs": [
    {
     "name": "stdout",
     "output_type": "stream",
     "text": [
      "Test Score 0.8310301507537688\n"
     ]
    }
   ],
   "source": [
    "print('Test Score', modelLog1.score(X_test,Y_test))"
   ]
  },
  {
   "cell_type": "code",
   "execution_count": 101,
   "id": "animated-sacrifice",
   "metadata": {},
   "outputs": [
    {
     "name": "stderr",
     "output_type": "stream",
     "text": [
      "c:\\users\\hp\\.conda\\envs\\mlprojects\\lib\\site-packages\\sklearn\\linear_model\\_logistic.py:765: ConvergenceWarning:\n",
      "\n",
      "lbfgs failed to converge (status=1):\n",
      "STOP: TOTAL NO. of ITERATIONS REACHED LIMIT.\n",
      "\n",
      "Increase the number of iterations (max_iter) or scale the data as shown in:\n",
      "    https://scikit-learn.org/stable/modules/preprocessing.html\n",
      "Please also refer to the documentation for alternative solver options:\n",
      "    https://scikit-learn.org/stable/modules/linear_model.html#logistic-regression\n",
      "\n",
      "c:\\users\\hp\\.conda\\envs\\mlprojects\\lib\\site-packages\\sklearn\\linear_model\\_logistic.py:765: ConvergenceWarning:\n",
      "\n",
      "lbfgs failed to converge (status=1):\n",
      "STOP: TOTAL NO. of ITERATIONS REACHED LIMIT.\n",
      "\n",
      "Increase the number of iterations (max_iter) or scale the data as shown in:\n",
      "    https://scikit-learn.org/stable/modules/preprocessing.html\n",
      "Please also refer to the documentation for alternative solver options:\n",
      "    https://scikit-learn.org/stable/modules/linear_model.html#logistic-regression\n",
      "\n",
      "c:\\users\\hp\\.conda\\envs\\mlprojects\\lib\\site-packages\\sklearn\\linear_model\\_logistic.py:765: ConvergenceWarning:\n",
      "\n",
      "lbfgs failed to converge (status=1):\n",
      "STOP: TOTAL NO. of ITERATIONS REACHED LIMIT.\n",
      "\n",
      "Increase the number of iterations (max_iter) or scale the data as shown in:\n",
      "    https://scikit-learn.org/stable/modules/preprocessing.html\n",
      "Please also refer to the documentation for alternative solver options:\n",
      "    https://scikit-learn.org/stable/modules/linear_model.html#logistic-regression\n",
      "\n",
      "c:\\users\\hp\\.conda\\envs\\mlprojects\\lib\\site-packages\\sklearn\\linear_model\\_logistic.py:765: ConvergenceWarning:\n",
      "\n",
      "lbfgs failed to converge (status=1):\n",
      "STOP: TOTAL NO. of ITERATIONS REACHED LIMIT.\n",
      "\n",
      "Increase the number of iterations (max_iter) or scale the data as shown in:\n",
      "    https://scikit-learn.org/stable/modules/preprocessing.html\n",
      "Please also refer to the documentation for alternative solver options:\n",
      "    https://scikit-learn.org/stable/modules/linear_model.html#logistic-regression\n",
      "\n",
      "c:\\users\\hp\\.conda\\envs\\mlprojects\\lib\\site-packages\\sklearn\\linear_model\\_logistic.py:765: ConvergenceWarning:\n",
      "\n",
      "lbfgs failed to converge (status=1):\n",
      "STOP: TOTAL NO. of ITERATIONS REACHED LIMIT.\n",
      "\n",
      "Increase the number of iterations (max_iter) or scale the data as shown in:\n",
      "    https://scikit-learn.org/stable/modules/preprocessing.html\n",
      "Please also refer to the documentation for alternative solver options:\n",
      "    https://scikit-learn.org/stable/modules/linear_model.html#logistic-regression\n",
      "\n",
      "c:\\users\\hp\\.conda\\envs\\mlprojects\\lib\\site-packages\\sklearn\\linear_model\\_logistic.py:765: ConvergenceWarning:\n",
      "\n",
      "lbfgs failed to converge (status=1):\n",
      "STOP: TOTAL NO. of ITERATIONS REACHED LIMIT.\n",
      "\n",
      "Increase the number of iterations (max_iter) or scale the data as shown in:\n",
      "    https://scikit-learn.org/stable/modules/preprocessing.html\n",
      "Please also refer to the documentation for alternative solver options:\n",
      "    https://scikit-learn.org/stable/modules/linear_model.html#logistic-regression\n",
      "\n",
      "c:\\users\\hp\\.conda\\envs\\mlprojects\\lib\\site-packages\\sklearn\\linear_model\\_logistic.py:765: ConvergenceWarning:\n",
      "\n",
      "lbfgs failed to converge (status=1):\n",
      "STOP: TOTAL NO. of ITERATIONS REACHED LIMIT.\n",
      "\n",
      "Increase the number of iterations (max_iter) or scale the data as shown in:\n",
      "    https://scikit-learn.org/stable/modules/preprocessing.html\n",
      "Please also refer to the documentation for alternative solver options:\n",
      "    https://scikit-learn.org/stable/modules/linear_model.html#logistic-regression\n",
      "\n",
      "c:\\users\\hp\\.conda\\envs\\mlprojects\\lib\\site-packages\\sklearn\\linear_model\\_logistic.py:765: ConvergenceWarning:\n",
      "\n",
      "lbfgs failed to converge (status=1):\n",
      "STOP: TOTAL NO. of ITERATIONS REACHED LIMIT.\n",
      "\n",
      "Increase the number of iterations (max_iter) or scale the data as shown in:\n",
      "    https://scikit-learn.org/stable/modules/preprocessing.html\n",
      "Please also refer to the documentation for alternative solver options:\n",
      "    https://scikit-learn.org/stable/modules/linear_model.html#logistic-regression\n",
      "\n",
      "c:\\users\\hp\\.conda\\envs\\mlprojects\\lib\\site-packages\\sklearn\\linear_model\\_logistic.py:765: ConvergenceWarning:\n",
      "\n",
      "lbfgs failed to converge (status=1):\n",
      "STOP: TOTAL NO. of ITERATIONS REACHED LIMIT.\n",
      "\n",
      "Increase the number of iterations (max_iter) or scale the data as shown in:\n",
      "    https://scikit-learn.org/stable/modules/preprocessing.html\n",
      "Please also refer to the documentation for alternative solver options:\n",
      "    https://scikit-learn.org/stable/modules/linear_model.html#logistic-regression\n",
      "\n",
      "c:\\users\\hp\\.conda\\envs\\mlprojects\\lib\\site-packages\\sklearn\\linear_model\\_logistic.py:765: ConvergenceWarning:\n",
      "\n",
      "lbfgs failed to converge (status=1):\n",
      "STOP: TOTAL NO. of ITERATIONS REACHED LIMIT.\n",
      "\n",
      "Increase the number of iterations (max_iter) or scale the data as shown in:\n",
      "    https://scikit-learn.org/stable/modules/preprocessing.html\n",
      "Please also refer to the documentation for alternative solver options:\n",
      "    https://scikit-learn.org/stable/modules/linear_model.html#logistic-regression\n",
      "\n",
      "c:\\users\\hp\\.conda\\envs\\mlprojects\\lib\\site-packages\\sklearn\\linear_model\\_logistic.py:765: ConvergenceWarning:\n",
      "\n",
      "lbfgs failed to converge (status=1):\n",
      "STOP: TOTAL NO. of ITERATIONS REACHED LIMIT.\n",
      "\n",
      "Increase the number of iterations (max_iter) or scale the data as shown in:\n",
      "    https://scikit-learn.org/stable/modules/preprocessing.html\n",
      "Please also refer to the documentation for alternative solver options:\n",
      "    https://scikit-learn.org/stable/modules/linear_model.html#logistic-regression\n",
      "\n",
      "c:\\users\\hp\\.conda\\envs\\mlprojects\\lib\\site-packages\\sklearn\\linear_model\\_logistic.py:765: ConvergenceWarning:\n",
      "\n",
      "lbfgs failed to converge (status=1):\n",
      "STOP: TOTAL NO. of ITERATIONS REACHED LIMIT.\n",
      "\n",
      "Increase the number of iterations (max_iter) or scale the data as shown in:\n",
      "    https://scikit-learn.org/stable/modules/preprocessing.html\n",
      "Please also refer to the documentation for alternative solver options:\n",
      "    https://scikit-learn.org/stable/modules/linear_model.html#logistic-regression\n",
      "\n",
      "c:\\users\\hp\\.conda\\envs\\mlprojects\\lib\\site-packages\\sklearn\\linear_model\\_logistic.py:765: ConvergenceWarning:\n",
      "\n",
      "lbfgs failed to converge (status=1):\n",
      "STOP: TOTAL NO. of ITERATIONS REACHED LIMIT.\n",
      "\n",
      "Increase the number of iterations (max_iter) or scale the data as shown in:\n",
      "    https://scikit-learn.org/stable/modules/preprocessing.html\n",
      "Please also refer to the documentation for alternative solver options:\n",
      "    https://scikit-learn.org/stable/modules/linear_model.html#logistic-regression\n",
      "\n",
      "c:\\users\\hp\\.conda\\envs\\mlprojects\\lib\\site-packages\\sklearn\\linear_model\\_logistic.py:765: ConvergenceWarning:\n",
      "\n",
      "lbfgs failed to converge (status=1):\n",
      "STOP: TOTAL NO. of ITERATIONS REACHED LIMIT.\n",
      "\n",
      "Increase the number of iterations (max_iter) or scale the data as shown in:\n",
      "    https://scikit-learn.org/stable/modules/preprocessing.html\n",
      "Please also refer to the documentation for alternative solver options:\n",
      "    https://scikit-learn.org/stable/modules/linear_model.html#logistic-regression\n",
      "\n",
      "c:\\users\\hp\\.conda\\envs\\mlprojects\\lib\\site-packages\\sklearn\\linear_model\\_logistic.py:765: ConvergenceWarning:\n",
      "\n",
      "lbfgs failed to converge (status=1):\n",
      "STOP: TOTAL NO. of ITERATIONS REACHED LIMIT.\n",
      "\n",
      "Increase the number of iterations (max_iter) or scale the data as shown in:\n",
      "    https://scikit-learn.org/stable/modules/preprocessing.html\n",
      "Please also refer to the documentation for alternative solver options:\n",
      "    https://scikit-learn.org/stable/modules/linear_model.html#logistic-regression\n",
      "\n",
      "c:\\users\\hp\\.conda\\envs\\mlprojects\\lib\\site-packages\\sklearn\\linear_model\\_logistic.py:765: ConvergenceWarning:\n",
      "\n",
      "lbfgs failed to converge (status=1):\n",
      "STOP: TOTAL NO. of ITERATIONS REACHED LIMIT.\n",
      "\n",
      "Increase the number of iterations (max_iter) or scale the data as shown in:\n",
      "    https://scikit-learn.org/stable/modules/preprocessing.html\n",
      "Please also refer to the documentation for alternative solver options:\n",
      "    https://scikit-learn.org/stable/modules/linear_model.html#logistic-regression\n",
      "\n",
      "c:\\users\\hp\\.conda\\envs\\mlprojects\\lib\\site-packages\\sklearn\\linear_model\\_logistic.py:765: ConvergenceWarning:\n",
      "\n",
      "lbfgs failed to converge (status=1):\n",
      "STOP: TOTAL NO. of ITERATIONS REACHED LIMIT.\n",
      "\n",
      "Increase the number of iterations (max_iter) or scale the data as shown in:\n",
      "    https://scikit-learn.org/stable/modules/preprocessing.html\n",
      "Please also refer to the documentation for alternative solver options:\n",
      "    https://scikit-learn.org/stable/modules/linear_model.html#logistic-regression\n",
      "\n",
      "c:\\users\\hp\\.conda\\envs\\mlprojects\\lib\\site-packages\\sklearn\\linear_model\\_logistic.py:765: ConvergenceWarning:\n",
      "\n",
      "lbfgs failed to converge (status=1):\n",
      "STOP: TOTAL NO. of ITERATIONS REACHED LIMIT.\n",
      "\n",
      "Increase the number of iterations (max_iter) or scale the data as shown in:\n",
      "    https://scikit-learn.org/stable/modules/preprocessing.html\n",
      "Please also refer to the documentation for alternative solver options:\n",
      "    https://scikit-learn.org/stable/modules/linear_model.html#logistic-regression\n",
      "\n"
     ]
    },
    {
     "name": "stdout",
     "output_type": "stream",
     "text": [
      "CV Scores [0.81589958 0.82008368 0.84100418 0.82008368 0.83263598 0.82426778\n",
      " 0.82008368 0.82426778 0.81589958 0.82845188 0.81171548 0.82008368\n",
      " 0.81171548 0.81171548 0.82773109 0.82352941 0.83193277 0.81932773\n",
      " 0.83193277 0.82352941]\n"
     ]
    },
    {
     "name": "stderr",
     "output_type": "stream",
     "text": [
      "c:\\users\\hp\\.conda\\envs\\mlprojects\\lib\\site-packages\\sklearn\\linear_model\\_logistic.py:765: ConvergenceWarning:\n",
      "\n",
      "lbfgs failed to converge (status=1):\n",
      "STOP: TOTAL NO. of ITERATIONS REACHED LIMIT.\n",
      "\n",
      "Increase the number of iterations (max_iter) or scale the data as shown in:\n",
      "    https://scikit-learn.org/stable/modules/preprocessing.html\n",
      "Please also refer to the documentation for alternative solver options:\n",
      "    https://scikit-learn.org/stable/modules/linear_model.html#logistic-regression\n",
      "\n",
      "c:\\users\\hp\\.conda\\envs\\mlprojects\\lib\\site-packages\\sklearn\\linear_model\\_logistic.py:765: ConvergenceWarning:\n",
      "\n",
      "lbfgs failed to converge (status=1):\n",
      "STOP: TOTAL NO. of ITERATIONS REACHED LIMIT.\n",
      "\n",
      "Increase the number of iterations (max_iter) or scale the data as shown in:\n",
      "    https://scikit-learn.org/stable/modules/preprocessing.html\n",
      "Please also refer to the documentation for alternative solver options:\n",
      "    https://scikit-learn.org/stable/modules/linear_model.html#logistic-regression\n",
      "\n"
     ]
    }
   ],
   "source": [
    "from sklearn.model_selection import cross_val_score\n",
    "scores = cross_val_score(modelLog1,X_train,Y_train,cv=20)\n",
    "print('CV Scores',scores)"
   ]
  },
  {
   "cell_type": "code",
   "execution_count": 102,
   "id": "beautiful-indicator",
   "metadata": {},
   "outputs": [
    {
     "name": "stdout",
     "output_type": "stream",
     "text": [
      "Test Score 0.8310301507537688\n"
     ]
    }
   ],
   "source": [
    "print('Test Score', modelLog1.score(X_test,Y_test))"
   ]
  },
  {
   "cell_type": "code",
   "execution_count": null,
   "id": "invalid-uncle",
   "metadata": {},
   "outputs": [],
   "source": []
  }
 ],
 "metadata": {
  "kernelspec": {
   "display_name": "Python 3",
   "language": "python",
   "name": "python3"
  },
  "language_info": {
   "codemirror_mode": {
    "name": "ipython",
    "version": 3
   },
   "file_extension": ".py",
   "mimetype": "text/x-python",
   "name": "python",
   "nbconvert_exporter": "python",
   "pygments_lexer": "ipython3",
   "version": "3.7.9"
  }
 },
 "nbformat": 4,
 "nbformat_minor": 5
}
