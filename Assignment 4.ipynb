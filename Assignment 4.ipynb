{
 "cells": [
  {
   "cell_type": "markdown",
   "metadata": {},
   "source": [
    "# Assignment 4,   Problem 1.1"
   ]
  },
  {
   "cell_type": "code",
   "execution_count": 1,
   "metadata": {},
   "outputs": [
    {
     "name": "stdout",
     "output_type": "stream",
     "text": [
      "First side2\n",
      "Second side3\n",
      "Third side4\n",
      "area : 92.951600308978\n"
     ]
    }
   ],
   "source": [
    "class tria:\n",
    "  def __init__(self, fside, sside, tside):\n",
    "    self.firstside = fside\n",
    "    self.secondside = sside\n",
    "    self.thirdside = tside\n",
    "firstside = int(input('First side'))\n",
    "secondside = int(input('Second side'))\n",
    "thirdside = int(input('Third side'))\n",
    "\n",
    "class area(tria):\n",
    "  def __init__(self, fside, sside, tside):\n",
    "    super().__init__(fside,sside,tside)\n",
    "  def printarea(self):\n",
    "    s = (self.firstside * self.secondside *self.thirdside)/2\n",
    "    a = (s * (s-self.firstside)*(s-self.secondside)*(s-self.thirdside)) ** 0.5\n",
    "    return(a)\n",
    "\n",
    "t = area(firstside,secondside,thirdside)\n",
    "print(\"area : {}\".format(t.printarea()))"
   ]
  },
  {
   "cell_type": "markdown",
   "metadata": {},
   "source": [
    "# Problem 1.2"
   ]
  },
  {
   "cell_type": "code",
   "execution_count": 5,
   "metadata": {},
   "outputs": [],
   "source": [
    "out =[] \n",
    "def filter_long_words(l0,n0):\n",
    "  for i in range(len(l0)):\n",
    "    if len(l0[i]) > n0:\n",
    "      out.append(l0[i])\n",
    "  return(out)"
   ]
  },
  {
   "cell_type": "code",
   "execution_count": 6,
   "metadata": {},
   "outputs": [
    {
     "data": {
      "text/plain": [
       "['ineuron', 'Affordable', 'Kumar']"
      ]
     },
     "execution_count": 6,
     "metadata": {},
     "output_type": "execute_result"
    }
   ],
   "source": [
    "out.clear()\n",
    "l0 =['ineuron', 'Affordable','AI', 'Kumar','Naik']\n",
    "n0 =4\n",
    "filter_long_words(l0,n0)"
   ]
  },
  {
   "cell_type": "markdown",
   "metadata": {},
   "source": [
    "# Problem 2.1"
   ]
  },
  {
   "cell_type": "code",
   "execution_count": 7,
   "metadata": {},
   "outputs": [],
   "source": [
    "out1 =[] \n",
    "def len_word(l0):\n",
    "  for i in range(len(l0)):\n",
    "    out1.append(len(l0[i]))\n",
    "  return(out1)"
   ]
  },
  {
   "cell_type": "code",
   "execution_count": 8,
   "metadata": {},
   "outputs": [
    {
     "data": {
      "text/plain": [
       "[4, 5, 6, 10, 3]"
      ]
     },
     "execution_count": 8,
     "metadata": {},
     "output_type": "execute_result"
    }
   ],
   "source": [
    "l0 =['yuer', 'tyhbd','vjhisa', 'ghrytuidjn','hfg']\n",
    "n0 =4\n",
    "len_word(l0)"
   ]
  },
  {
   "cell_type": "markdown",
   "metadata": {},
   "source": [
    "# Problem 2.2"
   ]
  },
  {
   "cell_type": "code",
   "execution_count": 9,
   "metadata": {},
   "outputs": [],
   "source": [
    "def vowcon(i):\n",
    "  v = ['a','e','i','o,','u','A','E','I','O','U']\n",
    "  if i in v:\n",
    "    return( True)\n",
    "  else:\n",
    "    return(False)"
   ]
  },
  {
   "cell_type": "code",
   "execution_count": 11,
   "metadata": {},
   "outputs": [
    {
     "data": {
      "text/plain": [
       "True"
      ]
     },
     "execution_count": 11,
     "metadata": {},
     "output_type": "execute_result"
    }
   ],
   "source": [
    "asi='a'\n",
    "vowcon(asi)"
   ]
  }
 ],
 "metadata": {
  "kernelspec": {
   "display_name": "Python 3",
   "language": "python",
   "name": "python3"
  },
  "language_info": {
   "codemirror_mode": {
    "name": "ipython",
    "version": 3
   },
   "file_extension": ".py",
   "mimetype": "text/x-python",
   "name": "python",
   "nbconvert_exporter": "python",
   "pygments_lexer": "ipython3",
   "version": "3.7.6"
  }
 },
 "nbformat": 4,
 "nbformat_minor": 4
}
