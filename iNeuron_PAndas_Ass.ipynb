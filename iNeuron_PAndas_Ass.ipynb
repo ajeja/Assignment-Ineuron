{
  "nbformat": 4,
  "nbformat_minor": 0,
  "metadata": {
    "colab": {
      "name": "iNeuron_PAndas_Ass.ipynb",
      "provenance": []
    },
    "kernelspec": {
      "name": "python3",
      "display_name": "Python 3"
    }
  },
  "cells": [
    {
      "cell_type": "code",
      "metadata": {
        "id": "QIzUtZgCW2yO"
      },
      "source": [
        "import pandas as pd\n",
        "import numpy as np"
      ],
      "execution_count": 260,
      "outputs": []
    },
    {
      "cell_type": "markdown",
      "metadata": {
        "id": "P2K3xidgASey"
      },
      "source": [
        "## **Data Creation**"
      ]
    },
    {
      "cell_type": "code",
      "metadata": {
        "id": "kf2p9a9sW9Cp"
      },
      "source": [
        "import pandas as pd\n",
        "import numpy as np\n",
        "df = pd.DataFrame({'From_To':['LoNDon_paris','MAdrid_miLAN',\n",
        "        'londON_StockhOlm','Budapest_PaRis','Brussels_londOn'],\n",
        "         'FlightNumber':[10045,np.nan,10065,np.nan,10085],\n",
        "         'RecentDelays':[[23,47],[],[24,43,87],[13],[67,32]],\n",
        "         'Airline':['KLM(!)','<Air France>(12)','(British Airways.)',\n",
        "                   '12.Air France',\"Swiss Air\"]})"
      ],
      "execution_count": 261,
      "outputs": []
    },
    {
      "cell_type": "markdown",
      "metadata": {
        "id": "wYjdPEUIADon"
      },
      "source": [
        "# **Replacing the NaN values with 10075 and 10055**"
      ]
    },
    {
      "cell_type": "code",
      "metadata": {
        "id": "l4Lo3fz1XG3d",
        "outputId": "8094211a-fb07-4f05-948b-d805ed999036",
        "colab": {
          "base_uri": "https://localhost:8080/"
        }
      },
      "source": [
        "ind = pd.isnull(df)\n",
        "print(ind)\n",
        "index = np.where(ind ==True)\n",
        "print(index)\n",
        "print(df['FlightNumber'][1])\n",
        "for i in range(len(index)):\n",
        "    x = (index[i][0])\n",
        "    y = (index[i][1])\n",
        "    (df['FlightNumber'][y]) = input(\"Enter the Flight Number\")\n",
        "df.dtypes\n",
        "df = df.astype({'FlightNumber': int})\n",
        "df.dtypes\n",
        "df1 = df"
      ],
      "execution_count": 262,
      "outputs": [
        {
          "output_type": "stream",
          "text": [
            "   From_To  FlightNumber  RecentDelays  Airline\n",
            "0    False         False         False    False\n",
            "1    False          True         False    False\n",
            "2    False         False         False    False\n",
            "3    False          True         False    False\n",
            "4    False         False         False    False\n",
            "(array([1, 3]), array([1, 1]))\n",
            "nan\n",
            "Enter the Flight Number10075\n"
          ],
          "name": "stdout"
        },
        {
          "output_type": "stream",
          "text": [
            "/usr/local/lib/python3.6/dist-packages/ipykernel_launcher.py:9: SettingWithCopyWarning: \n",
            "A value is trying to be set on a copy of a slice from a DataFrame\n",
            "\n",
            "See the caveats in the documentation: https://pandas.pydata.org/pandas-docs/stable/user_guide/indexing.html#returning-a-view-versus-a-copy\n",
            "  if __name__ == '__main__':\n"
          ],
          "name": "stderr"
        },
        {
          "output_type": "stream",
          "text": [
            "Enter the Flight Number10055\n"
          ],
          "name": "stdout"
        }
      ]
    },
    {
      "cell_type": "markdown",
      "metadata": {
        "id": "1hhhiCWr_bzf"
      },
      "source": [
        "# **Split the From_To column to two seperate columns From and To and Capitalise the First letter of the columns**"
      ]
    },
    {
      "cell_type": "code",
      "metadata": {
        "id": "l0SJWqytXIq_",
        "outputId": "1eb651c3-a79c-4d33-90b5-96ca5c293cd1",
        "colab": {
          "base_uri": "https://localhost:8080/",
          "height": 204
        }
      },
      "source": [
        "From_To= df1[\"From_To\"].str.split(\"_\", n = 0)\n",
        "df1[\"From\"] = [From_To[i][0] for i in range(len(df1[\"From_To\"]))]\n",
        "df1[\"To\"] = [From_To[i][1] for i in range(len(df1[\"From_To\"]))]\n",
        "df1[\"From\"] = df1[\"From\"].str.title()\n",
        "df1[\"To\"] = df1[\"To\"].str.title()\n",
        "df1 = df1.drop('From_To',1)\n",
        "df1"
      ],
      "execution_count": 263,
      "outputs": [
        {
          "output_type": "execute_result",
          "data": {
            "text/html": [
              "<div>\n",
              "<style scoped>\n",
              "    .dataframe tbody tr th:only-of-type {\n",
              "        vertical-align: middle;\n",
              "    }\n",
              "\n",
              "    .dataframe tbody tr th {\n",
              "        vertical-align: top;\n",
              "    }\n",
              "\n",
              "    .dataframe thead th {\n",
              "        text-align: right;\n",
              "    }\n",
              "</style>\n",
              "<table border=\"1\" class=\"dataframe\">\n",
              "  <thead>\n",
              "    <tr style=\"text-align: right;\">\n",
              "      <th></th>\n",
              "      <th>FlightNumber</th>\n",
              "      <th>RecentDelays</th>\n",
              "      <th>Airline</th>\n",
              "      <th>From</th>\n",
              "      <th>To</th>\n",
              "    </tr>\n",
              "  </thead>\n",
              "  <tbody>\n",
              "    <tr>\n",
              "      <th>0</th>\n",
              "      <td>10045</td>\n",
              "      <td>[23, 47]</td>\n",
              "      <td>KLM(!)</td>\n",
              "      <td>London</td>\n",
              "      <td>Paris</td>\n",
              "    </tr>\n",
              "    <tr>\n",
              "      <th>1</th>\n",
              "      <td>10055</td>\n",
              "      <td>[]</td>\n",
              "      <td>&lt;Air France&gt;(12)</td>\n",
              "      <td>Madrid</td>\n",
              "      <td>Milan</td>\n",
              "    </tr>\n",
              "    <tr>\n",
              "      <th>2</th>\n",
              "      <td>10065</td>\n",
              "      <td>[24, 43, 87]</td>\n",
              "      <td>(British Airways.)</td>\n",
              "      <td>London</td>\n",
              "      <td>Stockholm</td>\n",
              "    </tr>\n",
              "    <tr>\n",
              "      <th>3</th>\n",
              "      <td>10075</td>\n",
              "      <td>[13]</td>\n",
              "      <td>12.Air France</td>\n",
              "      <td>Budapest</td>\n",
              "      <td>Paris</td>\n",
              "    </tr>\n",
              "    <tr>\n",
              "      <th>4</th>\n",
              "      <td>10085</td>\n",
              "      <td>[67, 32]</td>\n",
              "      <td>Swiss Air</td>\n",
              "      <td>Brussels</td>\n",
              "      <td>London</td>\n",
              "    </tr>\n",
              "  </tbody>\n",
              "</table>\n",
              "</div>"
            ],
            "text/plain": [
              "   FlightNumber  RecentDelays             Airline      From         To\n",
              "0         10045      [23, 47]              KLM(!)    London      Paris\n",
              "1         10055            []    <Air France>(12)    Madrid      Milan\n",
              "2         10065  [24, 43, 87]  (British Airways.)    London  Stockholm\n",
              "3         10075          [13]       12.Air France  Budapest      Paris\n",
              "4         10085      [67, 32]           Swiss Air  Brussels     London"
            ]
          },
          "metadata": {
            "tags": []
          },
          "execution_count": 263
        }
      ]
    },
    {
      "cell_type": "code",
      "metadata": {
        "id": "seQWLBY4XZ_d",
        "outputId": "d213b41c-28b2-4f94-f3b3-f35c884eebd0",
        "colab": {
          "base_uri": "https://localhost:8080/",
          "height": 204
        }
      },
      "source": [
        "df1 = df1[['From','To','FlightNumber','RecentDelays','Airline']]\n",
        "df1"
      ],
      "execution_count": 264,
      "outputs": [
        {
          "output_type": "execute_result",
          "data": {
            "text/html": [
              "<div>\n",
              "<style scoped>\n",
              "    .dataframe tbody tr th:only-of-type {\n",
              "        vertical-align: middle;\n",
              "    }\n",
              "\n",
              "    .dataframe tbody tr th {\n",
              "        vertical-align: top;\n",
              "    }\n",
              "\n",
              "    .dataframe thead th {\n",
              "        text-align: right;\n",
              "    }\n",
              "</style>\n",
              "<table border=\"1\" class=\"dataframe\">\n",
              "  <thead>\n",
              "    <tr style=\"text-align: right;\">\n",
              "      <th></th>\n",
              "      <th>From</th>\n",
              "      <th>To</th>\n",
              "      <th>FlightNumber</th>\n",
              "      <th>RecentDelays</th>\n",
              "      <th>Airline</th>\n",
              "    </tr>\n",
              "  </thead>\n",
              "  <tbody>\n",
              "    <tr>\n",
              "      <th>0</th>\n",
              "      <td>London</td>\n",
              "      <td>Paris</td>\n",
              "      <td>10045</td>\n",
              "      <td>[23, 47]</td>\n",
              "      <td>KLM(!)</td>\n",
              "    </tr>\n",
              "    <tr>\n",
              "      <th>1</th>\n",
              "      <td>Madrid</td>\n",
              "      <td>Milan</td>\n",
              "      <td>10055</td>\n",
              "      <td>[]</td>\n",
              "      <td>&lt;Air France&gt;(12)</td>\n",
              "    </tr>\n",
              "    <tr>\n",
              "      <th>2</th>\n",
              "      <td>London</td>\n",
              "      <td>Stockholm</td>\n",
              "      <td>10065</td>\n",
              "      <td>[24, 43, 87]</td>\n",
              "      <td>(British Airways.)</td>\n",
              "    </tr>\n",
              "    <tr>\n",
              "      <th>3</th>\n",
              "      <td>Budapest</td>\n",
              "      <td>Paris</td>\n",
              "      <td>10075</td>\n",
              "      <td>[13]</td>\n",
              "      <td>12.Air France</td>\n",
              "    </tr>\n",
              "    <tr>\n",
              "      <th>4</th>\n",
              "      <td>Brussels</td>\n",
              "      <td>London</td>\n",
              "      <td>10085</td>\n",
              "      <td>[67, 32]</td>\n",
              "      <td>Swiss Air</td>\n",
              "    </tr>\n",
              "  </tbody>\n",
              "</table>\n",
              "</div>"
            ],
            "text/plain": [
              "       From         To  FlightNumber  RecentDelays             Airline\n",
              "0    London      Paris         10045      [23, 47]              KLM(!)\n",
              "1    Madrid      Milan         10055            []    <Air France>(12)\n",
              "2    London  Stockholm         10065  [24, 43, 87]  (British Airways.)\n",
              "3  Budapest      Paris         10075          [13]       12.Air France\n",
              "4  Brussels     London         10085      [67, 32]           Swiss Air"
            ]
          },
          "metadata": {
            "tags": []
          },
          "execution_count": 264
        }
      ]
    },
    {
      "cell_type": "markdown",
      "metadata": {
        "id": "WBBqbgXU-_Kb"
      },
      "source": [
        "# **Splitting the RecentDelays column to three seperate columns Delay_1,Delay_2, Delay_3**"
      ]
    },
    {
      "cell_type": "code",
      "metadata": {
        "id": "F79Q9KHvdAx_"
      },
      "source": [
        "df2 = (pd.DataFrame(df1.pop('RecentDelays').values.tolist(), index=df1.index)\n",
        "\n",
        "        .rename(columns = lambda x: 'Delay{}'.format(x+1)))\n",
        "\n"
      ],
      "execution_count": 265,
      "outputs": []
    },
    {
      "cell_type": "code",
      "metadata": {
        "id": "veL4_L-FxVXu",
        "outputId": "a6dff45d-fb13-4f28-abf5-7938ac25a02b",
        "colab": {
          "base_uri": "https://localhost:8080/",
          "height": 204
        }
      },
      "source": [
        "df1 = df1.join(df2)\n",
        "df1 = pd.DataFrame(df1)\n",
        "df1"
      ],
      "execution_count": 266,
      "outputs": [
        {
          "output_type": "execute_result",
          "data": {
            "text/html": [
              "<div>\n",
              "<style scoped>\n",
              "    .dataframe tbody tr th:only-of-type {\n",
              "        vertical-align: middle;\n",
              "    }\n",
              "\n",
              "    .dataframe tbody tr th {\n",
              "        vertical-align: top;\n",
              "    }\n",
              "\n",
              "    .dataframe thead th {\n",
              "        text-align: right;\n",
              "    }\n",
              "</style>\n",
              "<table border=\"1\" class=\"dataframe\">\n",
              "  <thead>\n",
              "    <tr style=\"text-align: right;\">\n",
              "      <th></th>\n",
              "      <th>From</th>\n",
              "      <th>To</th>\n",
              "      <th>FlightNumber</th>\n",
              "      <th>Airline</th>\n",
              "      <th>Delay1</th>\n",
              "      <th>Delay2</th>\n",
              "      <th>Delay3</th>\n",
              "    </tr>\n",
              "  </thead>\n",
              "  <tbody>\n",
              "    <tr>\n",
              "      <th>0</th>\n",
              "      <td>London</td>\n",
              "      <td>Paris</td>\n",
              "      <td>10045</td>\n",
              "      <td>KLM(!)</td>\n",
              "      <td>23.0</td>\n",
              "      <td>47.0</td>\n",
              "      <td>NaN</td>\n",
              "    </tr>\n",
              "    <tr>\n",
              "      <th>1</th>\n",
              "      <td>Madrid</td>\n",
              "      <td>Milan</td>\n",
              "      <td>10055</td>\n",
              "      <td>&lt;Air France&gt;(12)</td>\n",
              "      <td>NaN</td>\n",
              "      <td>NaN</td>\n",
              "      <td>NaN</td>\n",
              "    </tr>\n",
              "    <tr>\n",
              "      <th>2</th>\n",
              "      <td>London</td>\n",
              "      <td>Stockholm</td>\n",
              "      <td>10065</td>\n",
              "      <td>(British Airways.)</td>\n",
              "      <td>24.0</td>\n",
              "      <td>43.0</td>\n",
              "      <td>87.0</td>\n",
              "    </tr>\n",
              "    <tr>\n",
              "      <th>3</th>\n",
              "      <td>Budapest</td>\n",
              "      <td>Paris</td>\n",
              "      <td>10075</td>\n",
              "      <td>12.Air France</td>\n",
              "      <td>13.0</td>\n",
              "      <td>NaN</td>\n",
              "      <td>NaN</td>\n",
              "    </tr>\n",
              "    <tr>\n",
              "      <th>4</th>\n",
              "      <td>Brussels</td>\n",
              "      <td>London</td>\n",
              "      <td>10085</td>\n",
              "      <td>Swiss Air</td>\n",
              "      <td>67.0</td>\n",
              "      <td>32.0</td>\n",
              "      <td>NaN</td>\n",
              "    </tr>\n",
              "  </tbody>\n",
              "</table>\n",
              "</div>"
            ],
            "text/plain": [
              "       From         To  FlightNumber  ... Delay1  Delay2  Delay3\n",
              "0    London      Paris         10045  ...   23.0    47.0     NaN\n",
              "1    Madrid      Milan         10055  ...    NaN     NaN     NaN\n",
              "2    London  Stockholm         10065  ...   24.0    43.0    87.0\n",
              "3  Budapest      Paris         10075  ...   13.0     NaN     NaN\n",
              "4  Brussels     London         10085  ...   67.0    32.0     NaN\n",
              "\n",
              "[5 rows x 7 columns]"
            ]
          },
          "metadata": {
            "tags": []
          },
          "execution_count": 266
        }
      ]
    },
    {
      "cell_type": "markdown",
      "metadata": {
        "id": "fB6Bc5uZ-nYD"
      },
      "source": [
        "# **Removing the Unwanted characters in the column AIRLINE **"
      ]
    },
    {
      "cell_type": "code",
      "metadata": {
        "id": "1lmZtVrepuK6",
        "outputId": "093ba349-1c3b-426f-ee37-250820159227",
        "colab": {
          "base_uri": "https://localhost:8080/",
          "height": 476
        }
      },
      "source": [
        "for i in range(len(AL)):\n",
        "  df1['result'][i] = list([val for val in AL[i] \n",
        "               if val.isalpha()]) \n",
        "  df1['result'][i] = \"\".join(df1['result'][i]) \n",
        "df1['Airline'] = df1['result']\n",
        "df1.drop(['result'],axis =1, inplace = True)\n",
        "df1"
      ],
      "execution_count": 315,
      "outputs": [
        {
          "output_type": "stream",
          "text": [
            "0               KLM\n",
            "1         AirFrance\n",
            "2    BritishAirways\n",
            "3         AirFrance\n",
            "4          SwissAir\n",
            "Name: result, dtype: object\n"
          ],
          "name": "stdout"
        },
        {
          "output_type": "stream",
          "text": [
            "/usr/local/lib/python3.6/dist-packages/ipykernel_launcher.py:2: SettingWithCopyWarning: \n",
            "A value is trying to be set on a copy of a slice from a DataFrame\n",
            "\n",
            "See the caveats in the documentation: https://pandas.pydata.org/pandas-docs/stable/user_guide/indexing.html#returning-a-view-versus-a-copy\n",
            "  \n",
            "/usr/local/lib/python3.6/dist-packages/ipykernel_launcher.py:4: SettingWithCopyWarning: \n",
            "A value is trying to be set on a copy of a slice from a DataFrame\n",
            "\n",
            "See the caveats in the documentation: https://pandas.pydata.org/pandas-docs/stable/user_guide/indexing.html#returning-a-view-versus-a-copy\n",
            "  after removing the cwd from sys.path.\n"
          ],
          "name": "stderr"
        },
        {
          "output_type": "execute_result",
          "data": {
            "text/html": [
              "<div>\n",
              "<style scoped>\n",
              "    .dataframe tbody tr th:only-of-type {\n",
              "        vertical-align: middle;\n",
              "    }\n",
              "\n",
              "    .dataframe tbody tr th {\n",
              "        vertical-align: top;\n",
              "    }\n",
              "\n",
              "    .dataframe thead th {\n",
              "        text-align: right;\n",
              "    }\n",
              "</style>\n",
              "<table border=\"1\" class=\"dataframe\">\n",
              "  <thead>\n",
              "    <tr style=\"text-align: right;\">\n",
              "      <th></th>\n",
              "      <th>From</th>\n",
              "      <th>To</th>\n",
              "      <th>FlightNumber</th>\n",
              "      <th>Airline</th>\n",
              "      <th>Delay1</th>\n",
              "      <th>Delay2</th>\n",
              "      <th>Delay3</th>\n",
              "    </tr>\n",
              "  </thead>\n",
              "  <tbody>\n",
              "    <tr>\n",
              "      <th>0</th>\n",
              "      <td>London</td>\n",
              "      <td>Paris</td>\n",
              "      <td>10045</td>\n",
              "      <td>KLM</td>\n",
              "      <td>23.0</td>\n",
              "      <td>47.0</td>\n",
              "      <td>NaN</td>\n",
              "    </tr>\n",
              "    <tr>\n",
              "      <th>1</th>\n",
              "      <td>Madrid</td>\n",
              "      <td>Milan</td>\n",
              "      <td>10055</td>\n",
              "      <td>AirFrance</td>\n",
              "      <td>NaN</td>\n",
              "      <td>NaN</td>\n",
              "      <td>NaN</td>\n",
              "    </tr>\n",
              "    <tr>\n",
              "      <th>2</th>\n",
              "      <td>London</td>\n",
              "      <td>Stockholm</td>\n",
              "      <td>10065</td>\n",
              "      <td>BritishAirways</td>\n",
              "      <td>24.0</td>\n",
              "      <td>43.0</td>\n",
              "      <td>87.0</td>\n",
              "    </tr>\n",
              "    <tr>\n",
              "      <th>3</th>\n",
              "      <td>Budapest</td>\n",
              "      <td>Paris</td>\n",
              "      <td>10075</td>\n",
              "      <td>AirFrance</td>\n",
              "      <td>13.0</td>\n",
              "      <td>NaN</td>\n",
              "      <td>NaN</td>\n",
              "    </tr>\n",
              "    <tr>\n",
              "      <th>4</th>\n",
              "      <td>Brussels</td>\n",
              "      <td>London</td>\n",
              "      <td>10085</td>\n",
              "      <td>SwissAir</td>\n",
              "      <td>67.0</td>\n",
              "      <td>32.0</td>\n",
              "      <td>NaN</td>\n",
              "    </tr>\n",
              "  </tbody>\n",
              "</table>\n",
              "</div>"
            ],
            "text/plain": [
              "       From         To  FlightNumber         Airline  Delay1  Delay2  Delay3\n",
              "0    London      Paris         10045             KLM    23.0    47.0     NaN\n",
              "1    Madrid      Milan         10055       AirFrance     NaN     NaN     NaN\n",
              "2    London  Stockholm         10065  BritishAirways    24.0    43.0    87.0\n",
              "3  Budapest      Paris         10075       AirFrance    13.0     NaN     NaN\n",
              "4  Brussels     London         10085        SwissAir    67.0    32.0     NaN"
            ]
          },
          "metadata": {
            "tags": []
          },
          "execution_count": 315
        }
      ]
    },
    {
      "cell_type": "code",
      "metadata": {
        "id": "VhnN32c45yFf"
      },
      "source": [
        ""
      ],
      "execution_count": null,
      "outputs": []
    }
  ]
}